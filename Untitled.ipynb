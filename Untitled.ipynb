{
 "cells": [
  {
   "cell_type": "code",
   "execution_count": 1,
   "id": "921bb459",
   "metadata": {},
   "outputs": [],
   "source": [
    "import pandas as pd\n",
    "import numpy as np\n",
    "import matplotlib.pyplot as plt\n",
    "import seaborn as sns"
   ]
  },
  {
   "cell_type": "code",
   "execution_count": 2,
   "id": "2138326f",
   "metadata": {},
   "outputs": [],
   "source": [
    "df = pd.read_csv('datathon_SC_ACN_22/orders.csv', delimiter=';')\n",
    "df = df.replace('ATHENAS','Athens')\n",
    "df = df.replace('BCN','Barcelona')"
   ]
  },
  {
   "cell_type": "code",
   "execution_count": 3,
   "id": "d62ed77c",
   "metadata": {},
   "outputs": [
    {
     "data": {
      "text/plain": [
       "False    87120\n",
       "True     27156\n",
       "Name: late_order, dtype: int64"
      ]
     },
     "execution_count": 3,
     "metadata": {},
     "output_type": "execute_result"
    }
   ],
   "source": [
    "df['late_order'].value_counts()"
   ]
  },
  {
   "cell_type": "code",
   "execution_count": 4,
   "id": "5cc29369",
   "metadata": {},
   "outputs": [],
   "source": [
    "# f, t=df['late_order'].value_counts()\n",
    "# f, t"
   ]
  },
  {
   "cell_type": "code",
   "execution_count": 5,
   "id": "f5a2882e",
   "metadata": {
    "scrolled": true
   },
   "outputs": [],
   "source": [
    "# T = df[df['late_order']==True]\n",
    "# F = df[df['late_order']==False]\n",
    "# tru = T.sample(f, replace= True)\n",
    "# df = pd.concat([tru, F], axis=0)\n",
    "\n",
    "# rot = df[df['origin_port']== 'Rotterdam']\n",
    "# at = df[df['origin_port']== 'Athens']\n",
    "# bcn = df[df['origin_port']== 'Barcelona']\n",
    "\n",
    "# r, a, t = df['origin_port'].value_counts()\n",
    "\n",
    "# rot = rot.sample(a)\n",
    "# bcn = bcn.sample(a, replace=True)\n",
    "\n",
    "# df = pd.concat([rot, at, bcn], axis=0)"
   ]
  },
  {
   "cell_type": "code",
   "execution_count": 6,
   "id": "a5bccf39",
   "metadata": {},
   "outputs": [],
   "source": [
    "df_cities = pd.read_csv('datathon_SC_ACN_22/cities_data.csv', delimiter=';')"
   ]
  },
  {
   "cell_type": "code",
   "execution_count": 7,
   "id": "18fff6a8",
   "metadata": {},
   "outputs": [],
   "source": [
    "df_cities = df_cities.rename({'city_from_name':'logistic_hub'}, axis='columns')\n",
    "df_cities = df_cities.rename({'city_to_name':'customer'}, axis='columns')"
   ]
  },
  {
   "cell_type": "code",
   "execution_count": 8,
   "id": "880a2ad7",
   "metadata": {},
   "outputs": [],
   "source": [
    "df_m = df.merge(df_cities, how='left', on=['logistic_hub', 'customer']) #Left 3526615 #Right 3525953 # 3525566"
   ]
  },
  {
   "cell_type": "code",
   "execution_count": 9,
   "id": "10334903",
   "metadata": {
    "scrolled": true
   },
   "outputs": [],
   "source": [
    "# df_m['3pl'] = [x[4] for x in df_m['3pl']]\n",
    "# df_m['3pl'] = df_m['3pl'].astype(int)\n",
    "\n",
    "\n",
    "# df_m['3pl'] = df_m['3pl'].astype('category')\n",
    "# df_m['3pl'] =df_m['3pl'].cat.codes\n",
    "# df_m['3pl'].value_counts()\n",
    "\n",
    "# df_m['logistic_hub'] = df_m['logistic_hub'].astype('category')\n",
    "# df_m['logistic_hub'] =df_m['logistic_hub'].cat.codes\n",
    "# df_m['logistic_hub'].value_counts()\n",
    "\n",
    "\n",
    "# df_m['customer'] = df_m['customer'].astype('category')\n",
    "# df_m['customer'] =df_m['customer'].cat.codes\n",
    "# df_m['customer'].value_counts()\n"
   ]
  },
  {
   "cell_type": "code",
   "execution_count": 10,
   "id": "cd034812",
   "metadata": {},
   "outputs": [],
   "source": [
    "# df_merged = df_m.replace('Athens', 0)\n",
    "# df_merged = df_merged.replace('Barcelona', 1)\n",
    "# df_merged = df_merged.replace('Rotterdam', 2)"
   ]
  },
  {
   "cell_type": "code",
   "execution_count": 11,
   "id": "a3ebc55c",
   "metadata": {},
   "outputs": [],
   "source": [
    "# df_merged = df_merged.replace('DTP', 0)\n",
    "# df_merged = df_merged.replace('DTD', 1)\n",
    "# df_merged = df_merged.replace('CRF', 2)\n",
    "\n",
    "\n",
    "# df_merged"
   ]
  },
  {
   "cell_type": "code",
   "execution_count": 12,
   "id": "81ebfa19",
   "metadata": {},
   "outputs": [],
   "source": [
    "df_prod = pd.read_csv('datathon_SC_ACN_22/product_attributes.csv')"
   ]
  },
  {
   "cell_type": "code",
   "execution_count": 13,
   "id": "2b136e84",
   "metadata": {
    "scrolled": false
   },
   "outputs": [],
   "source": [
    "df_m2 = df_m.merge(df_prod, on='product_id', how='left')"
   ]
  },
  {
   "cell_type": "code",
   "execution_count": 14,
   "id": "e24372d3",
   "metadata": {},
   "outputs": [],
   "source": [
    "# df_m2['product_id'] = df_m2['product_id'].astype('category')\n",
    "# df_m2['product_id'] =df_m2['product_id'].cat.codes\n",
    "# df_m2['product_id'].value_counts()\n",
    "\n",
    "\n",
    "# df_m2['late_order'] = df_m2['late_order'].astype('category')\n",
    "# df_m2['late_order'] =df_m2['late_order'].cat.codes\n",
    "# df_m2['late_order'].value_counts()\n",
    "\n",
    "# df_m2 = df_m2.replace('True', 0)\n",
    "# df_m2 = df_m2.replace('False', 1)\n",
    "\n"
   ]
  },
  {
   "cell_type": "code",
   "execution_count": 15,
   "id": "457b6450",
   "metadata": {},
   "outputs": [],
   "source": [
    "del df_m2['city_from_coord']\n",
    "del df_m2['city_to_coord']\n",
    "del df_m2['order_id']\n",
    "y = df_m2['late_order']\n",
    "del df_m2['late_order']"
   ]
  },
  {
   "cell_type": "code",
   "execution_count": 16,
   "id": "e44b20d4",
   "metadata": {},
   "outputs": [],
   "source": [
    "data = df_m2.join(y)"
   ]
  },
  {
   "cell_type": "code",
   "execution_count": 17,
   "id": "873be624",
   "metadata": {},
   "outputs": [
    {
     "data": {
      "text/html": [
       "<div>\n",
       "<style scoped>\n",
       "    .dataframe tbody tr th:only-of-type {\n",
       "        vertical-align: middle;\n",
       "    }\n",
       "\n",
       "    .dataframe tbody tr th {\n",
       "        vertical-align: top;\n",
       "    }\n",
       "\n",
       "    .dataframe thead th {\n",
       "        text-align: right;\n",
       "    }\n",
       "</style>\n",
       "<table border=\"1\" class=\"dataframe\">\n",
       "  <thead>\n",
       "    <tr style=\"text-align: right;\">\n",
       "      <th></th>\n",
       "      <th>origin_port</th>\n",
       "      <th>3pl</th>\n",
       "      <th>customs_procedures</th>\n",
       "      <th>logistic_hub</th>\n",
       "      <th>customer</th>\n",
       "      <th>product_id</th>\n",
       "      <th>units</th>\n",
       "      <th>distance</th>\n",
       "      <th>weight</th>\n",
       "      <th>material_handling</th>\n",
       "      <th>late_order</th>\n",
       "    </tr>\n",
       "  </thead>\n",
       "  <tbody>\n",
       "    <tr>\n",
       "      <th>0</th>\n",
       "      <td>Rotterdam</td>\n",
       "      <td>v_002</td>\n",
       "      <td>DTP</td>\n",
       "      <td>Venlo</td>\n",
       "      <td>Marseille</td>\n",
       "      <td>1692723</td>\n",
       "      <td>583</td>\n",
       "      <td>902.0420</td>\n",
       "      <td>1778.0</td>\n",
       "      <td>5.0</td>\n",
       "      <td>True</td>\n",
       "    </tr>\n",
       "    <tr>\n",
       "      <th>1</th>\n",
       "      <td>Rotterdam</td>\n",
       "      <td>v_004</td>\n",
       "      <td>CRF</td>\n",
       "      <td>Rome</td>\n",
       "      <td>Marseille</td>\n",
       "      <td>1644308</td>\n",
       "      <td>459</td>\n",
       "      <td>604.0216</td>\n",
       "      <td>1088.0</td>\n",
       "      <td>3.0</td>\n",
       "      <td>False</td>\n",
       "    </tr>\n",
       "    <tr>\n",
       "      <th>2</th>\n",
       "      <td>Athens</td>\n",
       "      <td>v_002</td>\n",
       "      <td>CRF</td>\n",
       "      <td>Venlo</td>\n",
       "      <td>Paris</td>\n",
       "      <td>1684170</td>\n",
       "      <td>464</td>\n",
       "      <td>392.9249</td>\n",
       "      <td>505.0</td>\n",
       "      <td>4.0</td>\n",
       "      <td>True</td>\n",
       "    </tr>\n",
       "    <tr>\n",
       "      <th>3</th>\n",
       "      <td>Rotterdam</td>\n",
       "      <td>v_004</td>\n",
       "      <td>CRF</td>\n",
       "      <td>Lille</td>\n",
       "      <td>Milan</td>\n",
       "      <td>1620510</td>\n",
       "      <td>678</td>\n",
       "      <td>733.8784</td>\n",
       "      <td>1308.0</td>\n",
       "      <td>4.0</td>\n",
       "      <td>False</td>\n",
       "    </tr>\n",
       "    <tr>\n",
       "      <th>4</th>\n",
       "      <td>Barcelona</td>\n",
       "      <td>v_002</td>\n",
       "      <td>CRF</td>\n",
       "      <td>Venlo</td>\n",
       "      <td>Berlin</td>\n",
       "      <td>1699372</td>\n",
       "      <td>353</td>\n",
       "      <td>512.8188</td>\n",
       "      <td>1465.0</td>\n",
       "      <td>0.0</td>\n",
       "      <td>False</td>\n",
       "    </tr>\n",
       "    <tr>\n",
       "      <th>...</th>\n",
       "      <td>...</td>\n",
       "      <td>...</td>\n",
       "      <td>...</td>\n",
       "      <td>...</td>\n",
       "      <td>...</td>\n",
       "      <td>...</td>\n",
       "      <td>...</td>\n",
       "      <td>...</td>\n",
       "      <td>...</td>\n",
       "      <td>...</td>\n",
       "      <td>...</td>\n",
       "    </tr>\n",
       "    <tr>\n",
       "      <th>114271</th>\n",
       "      <td>Rotterdam</td>\n",
       "      <td>v_002</td>\n",
       "      <td>CRF</td>\n",
       "      <td>Dusseldorf</td>\n",
       "      <td>Bordeaux</td>\n",
       "      <td>1681376</td>\n",
       "      <td>645</td>\n",
       "      <td>896.2065</td>\n",
       "      <td>1896.0</td>\n",
       "      <td>3.0</td>\n",
       "      <td>False</td>\n",
       "    </tr>\n",
       "    <tr>\n",
       "      <th>114272</th>\n",
       "      <td>Barcelona</td>\n",
       "      <td>v_004</td>\n",
       "      <td>DTD</td>\n",
       "      <td>Dusseldorf</td>\n",
       "      <td>Berlin</td>\n",
       "      <td>1676942</td>\n",
       "      <td>502</td>\n",
       "      <td>477.3717</td>\n",
       "      <td>746.0</td>\n",
       "      <td>1.0</td>\n",
       "      <td>False</td>\n",
       "    </tr>\n",
       "    <tr>\n",
       "      <th>114273</th>\n",
       "      <td>Rotterdam</td>\n",
       "      <td>v_002</td>\n",
       "      <td>DTP</td>\n",
       "      <td>Dusseldorf</td>\n",
       "      <td>Rome</td>\n",
       "      <td>1692737</td>\n",
       "      <td>464</td>\n",
       "      <td>1125.0290</td>\n",
       "      <td>572.0</td>\n",
       "      <td>5.0</td>\n",
       "      <td>False</td>\n",
       "    </tr>\n",
       "    <tr>\n",
       "      <th>114274</th>\n",
       "      <td>Barcelona</td>\n",
       "      <td>v_003</td>\n",
       "      <td>DTD</td>\n",
       "      <td>Dusseldorf</td>\n",
       "      <td>Munich</td>\n",
       "      <td>1699974</td>\n",
       "      <td>388</td>\n",
       "      <td>487.5926</td>\n",
       "      <td>1894.0</td>\n",
       "      <td>1.0</td>\n",
       "      <td>False</td>\n",
       "    </tr>\n",
       "    <tr>\n",
       "      <th>114275</th>\n",
       "      <td>Rotterdam</td>\n",
       "      <td>v_002</td>\n",
       "      <td>DTD</td>\n",
       "      <td>Venlo</td>\n",
       "      <td>Bucharest</td>\n",
       "      <td>1620510</td>\n",
       "      <td>482</td>\n",
       "      <td>1672.4754</td>\n",
       "      <td>1308.0</td>\n",
       "      <td>4.0</td>\n",
       "      <td>False</td>\n",
       "    </tr>\n",
       "  </tbody>\n",
       "</table>\n",
       "<p>114276 rows × 11 columns</p>\n",
       "</div>"
      ],
      "text/plain": [
       "       origin_port    3pl customs_procedures logistic_hub   customer  \\\n",
       "0        Rotterdam  v_002                DTP        Venlo  Marseille   \n",
       "1        Rotterdam  v_004                CRF         Rome  Marseille   \n",
       "2           Athens  v_002                CRF        Venlo      Paris   \n",
       "3        Rotterdam  v_004                CRF        Lille      Milan   \n",
       "4        Barcelona  v_002                CRF        Venlo     Berlin   \n",
       "...            ...    ...                ...          ...        ...   \n",
       "114271   Rotterdam  v_002                CRF   Dusseldorf   Bordeaux   \n",
       "114272   Barcelona  v_004                DTD   Dusseldorf     Berlin   \n",
       "114273   Rotterdam  v_002                DTP   Dusseldorf       Rome   \n",
       "114274   Barcelona  v_003                DTD   Dusseldorf     Munich   \n",
       "114275   Rotterdam  v_002                DTD        Venlo  Bucharest   \n",
       "\n",
       "        product_id  units   distance  weight  material_handling  late_order  \n",
       "0          1692723    583   902.0420  1778.0                5.0        True  \n",
       "1          1644308    459   604.0216  1088.0                3.0       False  \n",
       "2          1684170    464   392.9249   505.0                4.0        True  \n",
       "3          1620510    678   733.8784  1308.0                4.0       False  \n",
       "4          1699372    353   512.8188  1465.0                0.0       False  \n",
       "...            ...    ...        ...     ...                ...         ...  \n",
       "114271     1681376    645   896.2065  1896.0                3.0       False  \n",
       "114272     1676942    502   477.3717   746.0                1.0       False  \n",
       "114273     1692737    464  1125.0290   572.0                5.0       False  \n",
       "114274     1699974    388   487.5926  1894.0                1.0       False  \n",
       "114275     1620510    482  1672.4754  1308.0                4.0       False  \n",
       "\n",
       "[114276 rows x 11 columns]"
      ]
     },
     "execution_count": 17,
     "metadata": {},
     "output_type": "execute_result"
    }
   ],
   "source": [
    "#data=data.dropna().reset_index(drop=True)\n",
    "data"
   ]
  },
  {
   "cell_type": "code",
   "execution_count": 18,
   "id": "174c8512",
   "metadata": {},
   "outputs": [
    {
     "data": {
      "text/plain": [
       "<AxesSubplot:>"
      ]
     },
     "execution_count": 18,
     "metadata": {},
     "output_type": "execute_result"
    },
    {
     "data": {
      "image/png": "[encoded data removed]",
      "text/plain": [
       "<Figure size 640x480 with 2 Axes>"
      ]
     },
     "metadata": {},
     "output_type": "display_data"
    }
   ],
   "source": [
    "corr = data.corr()\n",
    "sns.heatmap(corr, \n",
    "        xticklabels=corr.columns,\n",
    "        yticklabels=corr.columns)\n",
    "\n",
    "\n",
    "# def norm(x):\n",
    "#     a = (x-x.min())/(x.max()-x.min())\n",
    "#     return a"
   ]
  },
  {
   "cell_type": "code",
   "execution_count": 19,
   "id": "feee577f",
   "metadata": {},
   "outputs": [],
   "source": [
    "# data['units'] = norm(data['units'])\n",
    "# data['weight']=norm(data['weight'])\n",
    "#data['product_id'] = norm(data['product_id'])"
   ]
  },
  {
   "cell_type": "code",
   "execution_count": 20,
   "id": "26628515",
   "metadata": {},
   "outputs": [],
   "source": [
    "# data\n",
    "#del data['weight']\n",
    "#del data['material_handling']\n",
    "#del data['distance']\n",
    "#del data['product_id']"
   ]
  },
  {
   "cell_type": "code",
   "execution_count": null,
   "id": "31606609",
   "metadata": {},
   "outputs": [],
   "source": [
    "data['product_id'] = data['product_id'].astype('str')\n",
    "data['customer'] = data['customer'].astype('str')\n",
    "data['customs_procedures'] = data['customs_procedures'].astype('str')\n",
    "data['origin_port'] = data['origin_port'].astype('str')\n",
    "data['3pl'] = data['3pl'].astype('str')\n",
    "data['logistic_hub'] = data['logistic_hub'].astype('str')\n",
    "data['material_handling'] = data['material_handling'].astype('str')\n",
    "data['late_order'] = data['late_order'].astype('int')"
   ]
  },
  {
   "cell_type": "code",
   "execution_count": null,
   "id": "7d02d3a6",
   "metadata": {},
   "outputs": [],
   "source": [
    "data['product_id'].value_counts()"
   ]
  },
  {
   "cell_type": "code",
   "execution_count": null,
   "id": "153df70a",
   "metadata": {},
   "outputs": [],
   "source": []
  },
  {
   "cell_type": "code",
   "execution_count": null,
   "id": "0863671a",
   "metadata": {},
   "outputs": [],
   "source": [
    "from sklearn.model_selection import train_test_split\n",
    "train, val = train_test_split(data, test_size=0.25, shuffle=True)\n",
    "\n",
    "train_x = train.iloc[:,0:10] \n",
    "train_y = train.iloc[:,10]\n",
    "val_x = val.iloc[:,0:10] \n",
    "val_y = val.iloc[:,10]"
   ]
  },
  {
   "cell_type": "code",
   "execution_count": null,
   "id": "024a0e40",
   "metadata": {},
   "outputs": [],
   "source": [
    "train_y.value_counts()"
   ]
  },
  {
   "cell_type": "code",
   "execution_count": null,
   "id": "a7779a63",
   "metadata": {},
   "outputs": [],
   "source": [
    "val_y.value_counts()"
   ]
  },
  {
   "cell_type": "code",
   "execution_count": null,
   "id": "8ab8d41f",
   "metadata": {},
   "outputs": [],
   "source": [
    "train_x"
   ]
  },
  {
   "cell_type": "markdown",
   "id": "de8ab01c",
   "metadata": {},
   "source": [
    "## Gradient Boosting"
   ]
  },
  {
   "cell_type": "code",
   "execution_count": null,
   "id": "4160b734",
   "metadata": {},
   "outputs": [],
   "source": [
    "from catboost import CatBoostClassifier\n",
    "\n",
    "# adjust data for catboost classifier\n",
    "#train_x['material_handling'] = train_x['material_handling'].astype(str)\n",
    "#train_x = train_x.drop(columns=['origin_port_coord', 'logistic_hub_coord', 'customer_coord'])\n",
    "#val_x['material_handling'] = val_x['material_handling'].astype(str)\n",
    "#val_x = val_x.drop(columns=['origin_port_coord', 'logistic_hub_coord', 'customer_coord'])\n",
    "\n",
    "#choose categorical features\n",
    "cat_features = ['3pl', 'customs_procedures', 'material_handling', 'origin_port', 'logistic_hub', 'customer', 'product_id']\n",
    "model = CatBoostClassifier(iterations=300,\n",
    "                           learning_rate=0.01,\n",
    "                           depth=3)\n",
    "\n",
    "#train the model\n",
    "model.fit(train_x, train_y, cat_features)\n",
    "\n",
    "#predict on the test data\n",
    "preds_proba = model.predict_proba(val_x)"
   ]
  },
  {
   "cell_type": "code",
   "execution_count": null,
   "id": "d5fff4cc",
   "metadata": {},
   "outputs": [],
   "source": [
    "y_pred = np.argmax(preds_proba, axis=1)"
   ]
  },
  {
   "cell_type": "code",
   "execution_count": null,
   "id": "4fe19671",
   "metadata": {},
   "outputs": [],
   "source": [
    "val_y.values"
   ]
  },
  {
   "cell_type": "code",
   "execution_count": null,
   "id": "e77a7eba",
   "metadata": {},
   "outputs": [],
   "source": [
    "sum(y_pred==val_y.values)/len(val_y)"
   ]
  },
  {
   "cell_type": "code",
   "execution_count": null,
   "id": "fdfc2e03",
   "metadata": {},
   "outputs": [],
   "source": [
    "y_pred"
   ]
  },
  {
   "cell_type": "code",
   "execution_count": null,
   "id": "efe3d7f5",
   "metadata": {},
   "outputs": [],
   "source": [
    "sum(preds_proba[:,1]-val_y)/len(val_y)"
   ]
  },
  {
   "cell_type": "code",
   "execution_count": null,
   "id": "d38925fa",
   "metadata": {
    "scrolled": true
   },
   "outputs": [],
   "source": [
    "# from sklearn.ensemble import GradientBoostingClassifier, RandomForestClassifier, AdaBoostClassifier\n",
    "# from sklearn.metrics import f1_score\n",
    "# from sklearn.metrics import plot_confusion_matrix\n",
    "\n",
    "# clf_gb = GradientBoostingClassifier(n_estimators=100, learning_rate=1,\n",
    "#      max_depth=12, random_state=0).fit(np.nan_to_num(train_x), train_y)\n",
    "\n",
    "# plot_confusion_matrix(clf_gb, np.nan_to_num(val_x), val_y)\n",
    "\n",
    "\n",
    "\n",
    "# cv = RepeatedStratifiedKFold(n_splits=10, n_repeats=3, random_state=1)\n",
    "# n_scores = cross_val_score(model, X, y, scoring='accuracy', cv=cv, n_jobs=-1, error_score='raise')\n",
    "# print('Accuracy: %.3f (%.3f)' % (mean(n_scores), std(n_scores)))\n",
    "# # fit the model on the whole dataset\n",
    "# model = GradientBoostingClassifier()\n",
    "# model.fit(X, y)\n",
    "# # make a single prediction\n",
    "# row = [[2.56999479, -0.13019997, 3.16075093, -4.35936352, -1.61271951, -1.39352057, -2.48924933, -1.93094078, 3.26130366, 2.05692145]]\n",
    "# yhat = model.predict(row)\n",
    "# print('Prediction: %d' % yhat[0])\n",
    "\n",
    "\n",
    "# clf_gb = RandomForestClassifier(max_depth=10, random_state=0).fit(np.nan_to_num(train_x), train_y)\n",
    "\n",
    "# plot_confusion_matrix(clf_gb, np.nan_to_num(val_x), val_y)"
   ]
  },
  {
   "cell_type": "code",
   "execution_count": null,
   "id": "70a37dbf",
   "metadata": {},
   "outputs": [],
   "source": [
    "# from sklearn.svm import SVC\n",
    "# from sklearn.preprocessing import StandardScaler\n",
    "# from sklearn.pipeline import make_pipeline\n",
    "# clf = make_pipeline(StandardScaler(), SVC(gamma='auto'))\n",
    "\n",
    "# clf.fit(train_x, train_y)\n"
   ]
  },
  {
   "cell_type": "code",
   "execution_count": null,
   "id": "ecac1485",
   "metadata": {},
   "outputs": [],
   "source": [
    "# clf.score(val_x, val_y)"
   ]
  },
  {
   "cell_type": "code",
   "execution_count": null,
   "id": "1f1d162c",
   "metadata": {},
   "outputs": [],
   "source": [
    "# score = clf_gb.score(np.nan_to_num(val_x), val_y)\n",
    "# y_pred = clf_gb.predict(np.nan_to_num(val_x))\n",
    "# f1 = f1_score(val_y, y_pred)\n",
    "# f1, score"
   ]
  },
  {
   "cell_type": "code",
   "execution_count": null,
   "id": "ab1601db",
   "metadata": {},
   "outputs": [],
   "source": [
    "# import numpy as np\n",
    "\n",
    "# from scipy.stats import uniform, randint\n",
    "\n",
    "# from sklearn.datasets import load_breast_cancer, load_diabetes, load_wine\n",
    "# from sklearn.metrics import auc, accuracy_score, confusion_matrix, mean_squared_error\n",
    "# from sklearn.model_selection import cross_val_score, GridSearchCV, KFold, RandomizedSearchCV, train_test_split\n",
    "\n",
    "# import xgboost as xgb"
   ]
  },
  {
   "cell_type": "code",
   "execution_count": null,
   "id": "750db840",
   "metadata": {},
   "outputs": [],
   "source": [
    "# clf = xgb.XGBClassifier(tree_method=\"hist\", enable_categorical=True)\n",
    "\n",
    "# clf.fit(train_x, train_y)\n",
    "# score = clf.score(np.nan_to_num(val_x), val_y)\n",
    "# y_pred = clf.predict(val_x)\n",
    "# f1 = f1_score(val_y, y_pred)\n"
   ]
  },
  {
   "cell_type": "code",
   "execution_count": null,
   "id": "a9fd3038",
   "metadata": {},
   "outputs": [],
   "source": [
    "# graph = xgb.to_graphviz(clf, num_trees=1)"
   ]
  },
  {
   "cell_type": "code",
   "execution_count": null,
   "id": "175bd613",
   "metadata": {},
   "outputs": [],
   "source": [
    "# score, f1"
   ]
  },
  {
   "cell_type": "code",
   "execution_count": null,
   "id": "970a20dc",
   "metadata": {},
   "outputs": [],
   "source": [
    "# from sklearn.linear_model import LogisticRegression\n",
    "\n",
    "# train, val = train_test_split(data.sample(500), shuffle=True)\n",
    "\n",
    "# train_x = train.iloc[:, 0:10] \n",
    "# train_y = train.iloc[:,10]\n",
    "# val_x = val.iloc[:, 0:10] \n",
    "# val_y = val.iloc[:,10]\n",
    "\n",
    "\n",
    "# clf = LogisticRegression(random_state=0).fit(np.nan_to_num(train_x), train_y)\n",
    "\n",
    "# score = clf.score(np.nan_to_num(val_x), val_y)\n",
    "\n",
    "# y_pred = clf.predict(np.nan_to_num(val_x))\n",
    "\n",
    "# score\n",
    "\n",
    "# f1 = f1_score(val_y, y_pred)\n",
    "\n",
    "# f1"
   ]
  },
  {
   "cell_type": "code",
   "execution_count": null,
   "id": "10a2de76",
   "metadata": {},
   "outputs": [],
   "source": [
    "# from tensorflow.keras.layers import Dense, Dropout\n",
    "# from keras.models import Sequential\n",
    "# import keras\n",
    "# model = Sequential()\n",
    "\n",
    "# model = keras.Sequential([\n",
    "#     Dense(32, activation='relu',input_shape=(8,)),\n",
    "#     Dense(64, activation='relu'),\n",
    "#     Dropout(0.2),\n",
    "#     Dense(128, activation='relu'),\n",
    "#     Dropout(0.2),\n",
    "#     Dense(32, activation='relu'),\n",
    "#     Dense(16, activation='relu'),\n",
    "#     Dense(1, activation='softmax'),\n",
    "# ])"
   ]
  },
  {
   "cell_type": "code",
   "execution_count": null,
   "id": "dd222680",
   "metadata": {},
   "outputs": [],
   "source": [
    "# model.summary()"
   ]
  },
  {
   "cell_type": "code",
   "execution_count": null,
   "id": "8f94fe91",
   "metadata": {},
   "outputs": [],
   "source": [
    "# from keras import backend as K\n",
    "\n",
    "# def recall_m(y_true, y_pred):\n",
    "#     true_positives = K.sum(K.round(K.clip(y_true * y_pred, 0, 1)))\n",
    "#     possible_positives = K.sum(K.round(K.clip(y_true, 0, 1)))\n",
    "#     recall = true_positives / (possible_positives + K.epsilon())\n",
    "#     return recall\n",
    "\n",
    "# def precision_m(y_true, y_pred):\n",
    "#     true_positives = K.sum(K.round(K.clip(y_true * y_pred, 0, 1)))\n",
    "#     predicted_positives = K.sum(K.round(K.clip(y_pred, 0, 1)))\n",
    "#     precision = true_positives / (predicted_positives + K.epsilon())\n",
    "#     return precision\n",
    "\n",
    "# def f1_m(y_true, y_pred):\n",
    "#     precision = precision_m(y_true, y_pred)\n",
    "#     recall = recall_m(y_true, y_pred)\n",
    "#     return 2*((precision*recall)/(precision+recall+K.epsilon()))"
   ]
  },
  {
   "cell_type": "code",
   "execution_count": null,
   "id": "a66692ab",
   "metadata": {},
   "outputs": [],
   "source": [
    "# model.compile(optimizer='Adam', loss='sparse_categorical_crossentropy', metrics=['acc',f1_m, precision_m, recall_m])"
   ]
  },
  {
   "cell_type": "code",
   "execution_count": null,
   "id": "bfac0038",
   "metadata": {},
   "outputs": [],
   "source": [
    "#fit the model\n",
    "# history = model.fit(train_x, train_y, validation_split=0.2, batch_size=128, epochs=30, verbose=1)"
   ]
  },
  {
   "cell_type": "code",
   "execution_count": null,
   "id": "1dc147d7",
   "metadata": {},
   "outputs": [],
   "source": [
    "# loss, accuracy, f1_score, precision, recall = model.evaluate(Xv, yv, verbose=0)"
   ]
  },
  {
   "cell_type": "code",
   "execution_count": null,
   "id": "cdb2255b",
   "metadata": {},
   "outputs": [],
   "source": [
    "# loss, accuracy, f1_score"
   ]
  },
  {
   "cell_type": "markdown",
   "id": "b011897e",
   "metadata": {},
   "source": [
    "## Read Test"
   ]
  },
  {
   "cell_type": "code",
   "execution_count": null,
   "id": "2ffcefed",
   "metadata": {},
   "outputs": [],
   "source": [
    "test = pd.read_csv('datathon_SC_ACN_22/test.csv', delimiter=';')\n",
    "test = test.replace('ATHENAS','Athens')\n",
    "test = test.replace('BCN','Barcelona')"
   ]
  },
  {
   "cell_type": "code",
   "execution_count": null,
   "id": "4662551d",
   "metadata": {},
   "outputs": [],
   "source": [
    "df_test = test.merge(df_cities, how='left', on=['logistic_hub', 'customer'])"
   ]
  },
  {
   "cell_type": "code",
   "execution_count": null,
   "id": "0cf8b278",
   "metadata": {},
   "outputs": [],
   "source": [
    "df_testm = df_test.merge(df_prod, on='product_id', how='left')\n"
   ]
  },
  {
   "cell_type": "code",
   "execution_count": null,
   "id": "3a704eae",
   "metadata": {},
   "outputs": [],
   "source": [
    "del df_testm['city_from_coord']\n",
    "del df_testm['city_to_coord']\n",
    "del df_testm['order_id']"
   ]
  },
  {
   "cell_type": "code",
   "execution_count": null,
   "id": "ca61fcb7",
   "metadata": {},
   "outputs": [],
   "source": [
    "df_testm['product_id'] = df_testm['product_id'].astype('str')\n",
    "df_testm['customer'] = df_testm['customer'].astype('str')\n",
    "df_testm['customs_procedures'] = df_testm['customs_procedures'].astype('str')\n",
    "df_testm['origin_port'] = df_testm['origin_port'].astype('str')\n",
    "df_testm['3pl'] = df_testm['3pl'].astype('str')\n",
    "df_testm['logistic_hub'] = df_testm['logistic_hub'].astype('str')\n",
    "df_testm['material_handling'] = df_testm['material_handling'].astype('str')"
   ]
  },
  {
   "cell_type": "code",
   "execution_count": null,
   "id": "ee3d6e73",
   "metadata": {},
   "outputs": [],
   "source": [
    "y_pred_1 = model.predict_proba(df_testm)"
   ]
  },
  {
   "cell_type": "code",
   "execution_count": null,
   "id": "f2531ef9",
   "metadata": {},
   "outputs": [],
   "source": [
    "sum(np.argmax(y_pred_1,axis=1))/28563"
   ]
  },
  {
   "cell_type": "code",
   "execution_count": null,
   "id": "99148886",
   "metadata": {},
   "outputs": [],
   "source": [
    "df_test['late_order']=y_pred_1[:,1]"
   ]
  },
  {
   "cell_type": "code",
   "execution_count": null,
   "id": "3848e627",
   "metadata": {},
   "outputs": [],
   "source": [
    "result = df_test[['order_id','late_order']]"
   ]
  },
  {
   "cell_type": "code",
   "execution_count": null,
   "id": "7c608623",
   "metadata": {},
   "outputs": [],
   "source": [
    "result.to_csv('result.csv', index=False)"
   ]
  },
  {
   "cell_type": "code",
   "execution_count": null,
   "id": "0dc50e31",
   "metadata": {},
   "outputs": [],
   "source": []
  },
  {
   "cell_type": "code",
   "execution_count": null,
   "id": "835e250a",
   "metadata": {},
   "outputs": [],
   "source": []
  },
  {
   "cell_type": "code",
   "execution_count": null,
   "id": "503d6016",
   "metadata": {},
   "outputs": [],
   "source": []
  },
  {
   "cell_type": "code",
   "execution_count": null,
   "id": "2a411b5e",
   "metadata": {},
   "outputs": [],
   "source": []
  },
  {
   "cell_type": "code",
   "execution_count": null,
   "id": "81f46694",
   "metadata": {},
   "outputs": [],
   "source": []
  },
  {
   "cell_type": "code",
   "execution_count": null,
   "id": "eb84a23f",
   "metadata": {},
   "outputs": [],
   "source": []
  },
  {
   "cell_type": "code",
   "execution_count": null,
   "id": "78b3e0e0",
   "metadata": {},
   "outputs": [],
   "source": []
  },
  {
   "cell_type": "code",
   "execution_count": null,
   "id": "5c346a86",
   "metadata": {},
   "outputs": [],
   "source": []
  },
  {
   "cell_type": "code",
   "execution_count": null,
   "id": "d791e31e",
   "metadata": {},
   "outputs": [],
   "source": []
  },
  {
   "cell_type": "code",
   "execution_count": null,
   "id": "ef6da9c0",
   "metadata": {},
   "outputs": [],
   "source": []
  },
  {
   "cell_type": "code",
   "execution_count": null,
   "id": "52ed7bf3",
   "metadata": {},
   "outputs": [],
   "source": []
  }
 ],
 "metadata": {
  "kernelspec": {
   "display_name": "Python 3 (ipykernel)",
   "language": "python",
   "name": "python3"
  },
  "language_info": {
   "codemirror_mode": {
    "name": "ipython",
    "version": 3
   },
   "file_extension": ".py",
   "mimetype": "text/x-python",
   "name": "python",
   "nbconvert_exporter": "python",
   "pygments_lexer": "ipython3",
   "version": "3.9.13"
  },
  "latex_envs": {
   "LaTeX_envs_menu_present": true,
   "autoclose": false,
   "autocomplete": true,
   "bibliofile": "biblio.bib",
   "cite_by": "apalike",
   "current_citInitial": 1,
   "eqLabelWithNumbers": true,
   "eqNumInitial": 1,
   "hotkeys": {
    "equation": "Ctrl-E",
    "itemize": "Ctrl-I"
   },
   "labels_anchors": false,
   "latex_user_defs": false,
   "report_style_numbering": false,
   "user_envs_cfg": false
  },
  "toc": {
   "base_numbering": 1,
   "nav_menu": {},
   "number_sections": true,
   "sideBar": true,
   "skip_h1_title": false,
   "title_cell": "Table of Contents",
   "title_sidebar": "Contents",
   "toc_cell": false,
   "toc_position": {},
   "toc_section_display": true,
   "toc_window_display": false
  },
  "varInspector": {
   "cols": {
    "lenName": 16,
    "lenType": 16,
    "lenVar": 40
   },
   "kernels_config": {
    "python": {
     "delete_cmd_postfix": "",
     "delete_cmd_prefix": "del ",
     "library": "var_list.py",
     "varRefreshCmd": "print(var_dic_list())"
    },
    "r": {
     "delete_cmd_postfix": ") ",
     "delete_cmd_prefix": "rm(",
     "library": "var_list.r",
     "varRefreshCmd": "cat(var_dic_list()) "
    }
   },
   "types_to_exclude": [
    "module",
    "function",
    "builtin_function_or_method",
    "instance",
    "_Feature"
   ],
   "window_display": false
  }
 },
 "nbformat": 4,
 "nbformat_minor": 5
}
